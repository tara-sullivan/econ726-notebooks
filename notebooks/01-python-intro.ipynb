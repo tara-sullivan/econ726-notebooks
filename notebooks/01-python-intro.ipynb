{
 "cells": [
  {
   "cell_type": "markdown",
   "metadata": {},
   "source": [
    "# Introduction to python and jupyter notebooks\n",
    "\n",
    "Below is an (extremely non-comprehensive) introduction to python and jupyter notebooks. \n",
    "There are many great resources for learning python out there. \n",
    "Some of my favorite include:\n",
    "* Automate the boring stuff with python: https://automatetheboringstuff.com/\n",
    "* The [Python Data Science Handbook](https://www.oreilly.com/library/view/python-data-science/9781491912126/), which has free notebooks availabe on GitHub: https://github.com/jakevdp/PythonDataScienceHandbook/blob/master/README.md"
   ]
  },
  {
   "cell_type": "markdown",
   "metadata": {},
   "source": [
    "## Moving around in notebooks\n",
    "\n",
    "Notebooks are convenient ways of combining text, code, and output. \n",
    "The text is written in a language called Markdown. \n",
    "Code can be written in any number of languages; we'll be using python. \n",
    "\n",
    "Navigating notebooks:\n",
    "* Can write text (markdown) or code in cells\n",
    "* To run code or compile text, use `Shift+Enter` or `command + Enter`\n",
    "* Hit `Enter` to continue editing text or code in a cell\n",
    "* Use your arrow keys to move up and down\n",
    "* Hit `Esc` to move into navigation mode\n",
    "\n",
    "Markdown cheatsheet: https://www.markdownguide.org/cheat-sheet/\n"
   ]
  },
  {
   "cell_type": "markdown",
   "metadata": {},
   "source": [
    "## Python basics\n",
    "\n",
    "Basics of python cheatsheet: https://www.pythoncheatsheet.org/cheatsheet/basics"
   ]
  },
  {
   "cell_type": "code",
   "execution_count": null,
   "metadata": {},
   "outputs": [],
   "source": [
    "# python comment (will not run)"
   ]
  },
  {
   "cell_type": "code",
   "execution_count": null,
   "metadata": {},
   "outputs": [],
   "source": [
    "# types\n",
    "'String Type'  # string type\n",
    "3.41           # float type\n",
    "1              # int type\n",
    "True           # bool type"
   ]
  },
  {
   "cell_type": "code",
   "execution_count": null,
   "metadata": {},
   "outputs": [],
   "source": [
    "# define variables/objects\n",
    "# Numbers\n",
    "age = 25                    # int\n",
    "price = 19.99              # float\n",
    "coordinate = 2 + 3j        # complex\n",
    "\n",
    "# Text\n",
    "name = \"Alice\"             # str\n",
    "\n",
    "# Boolean\n",
    "is_student = True          # bool\n",
    "\n",
    "# None\n",
    "result = None              # NoneType"
   ]
  },
  {
   "cell_type": "code",
   "execution_count": null,
   "metadata": {},
   "outputs": [],
   "source": [
    "# Collections\n",
    "scores = [85, 92, 78]      # list\n",
    "scores\n",
    "person = {'name': ['Bob'], 'age': [30]}  # dict\n",
    "person\n",
    "# coordinates = (10, 20)     # tuple\n",
    "# unique_ids = {1, 2, 3}     # set"
   ]
  },
  {
   "cell_type": "code",
   "execution_count": null,
   "metadata": {},
   "outputs": [],
   "source": [
    "def foo():\n",
    "    \"\"\"\n",
    "    This is a function docstring\n",
    "    You can also use:\n",
    "    ''' Function Docstring '''\n",
    "    \"\"\"\n",
    "    print('Hello world!')\n",
    "foo()\n"
   ]
  },
  {
   "cell_type": "markdown",
   "metadata": {},
   "source": [
    "## Packages\n",
    "\n",
    "Built-in functions in python only do so much. You generally need python packages to do interesting analysis.\n",
    "To use a package, you may need to first install it to your local python distribution. \n",
    "This can be done using `pip install` or `conda install` on the command line. \n",
    "In a jupyter notebook, you can access the command line by preceeding your code with `!`"
   ]
  },
  {
   "cell_type": "code",
   "execution_count": null,
   "metadata": {},
   "outputs": [],
   "source": [
    "!pip install pandas"
   ]
  },
  {
   "cell_type": "markdown",
   "metadata": {},
   "source": [
    "You must `import` a package in order to use it in your code. \n",
    "You'll often see `as` statements following import statements. This is known as an *alias*. \n",
    "When a package has an alias, you can reference the alias instead of the package name.\n",
    "After you've imported a package, you can use its commands. \n",
    "Below, I define a pandas Series. "
   ]
  },
  {
   "cell_type": "code",
   "execution_count": null,
   "metadata": {},
   "outputs": [],
   "source": [
    "import pandas as pd\n",
    "import numpy as np\n",
    "\n",
    "pd.Series([3])"
   ]
  },
  {
   "cell_type": "markdown",
   "metadata": {},
   "source": [
    "## Pandas and Numpy\n",
    "\n",
    "### Why do we need these packages?\n",
    "\n",
    "Numpy and Pandas are often used for analyzing data. \n",
    "\n",
    "Question: Why do we need these packages?\n",
    "Python has a list type; can't we just store data as a bunch of lists?\n",
    "\n",
    "Answer: In python, lists can store different types:"
   ]
  },
  {
   "cell_type": "code",
   "execution_count": null,
   "metadata": {},
   "outputs": [],
   "source": [
    "[True, '2', 3.0, 4]"
   ]
  },
  {
   "cell_type": "markdown",
   "metadata": {},
   "source": [
    "This is very flexible! But ultimately very slow, particularly when you're dealing with a lot of data. In contrast, all elements of numpy arrays are of the same type. This allows for faster compilation of code."
   ]
  },
  {
   "cell_type": "code",
   "execution_count": null,
   "metadata": {},
   "outputs": [],
   "source": [
    "np.array([1, 2, 3])\n",
    "np.array([1., 2.2, 2.1])\n",
    "np.array(['s', 't', 'r'])\n",
    "np.array([True, False])"
   ]
  },
  {
   "cell_type": "markdown",
   "metadata": {},
   "source": [
    "Pandas arrays are built on numpy arrays, and have even more information; there are column and index (row) labels. \n",
    "Pandas is a bit slower than numpy, so sometimes analysis is done with numpy instead of pandas.\n",
    "\n",
    "Pandas objects are generally two types: Series (vectors), and DataFrames (matrices)."
   ]
  },
  {
   "cell_type": "code",
   "execution_count": null,
   "metadata": {},
   "outputs": [],
   "source": [
    "pd.Series([2, 3, 1])"
   ]
  },
  {
   "cell_type": "code",
   "execution_count": null,
   "metadata": {},
   "outputs": [],
   "source": [
    "pd.DataFrame([[2, 3, 4], [5, 6, 7]], columns=['col1', 'col2', 'col3'])"
   ]
  },
  {
   "cell_type": "markdown",
   "metadata": {},
   "source": [
    "## Pandas introduction\n",
    "\n",
    "Google colab introduction to pandas: https://colab.research.google.com/github/google/eng-edu/blob/main/ml/cc/exercises/pandas_dataframe_ultraquick_tutorial.ipynb#scrollTo=dPmpVM_8IoBO"
   ]
  },
  {
   "cell_type": "markdown",
   "metadata": {},
   "source": [
    "# Create and populate a 5x2 NumPy array.\n"
   ]
  },
  {
   "cell_type": "code",
   "execution_count": null,
   "metadata": {},
   "outputs": [],
   "source": [
    "# Create and populate a 5x2 NumPy array.\n",
    "my_data = np.array([[0, 3], [10, 7], [20, 9], [30, 14], [40, 15]])\n",
    "\n",
    "# Create a Python list that holds the names of the two columns.\n",
    "my_column_names = ['temperature', 'activity']\n",
    "\n",
    "# Create a DataFrame.\n",
    "my_dataframe = pd.DataFrame(data=my_data, columns=my_column_names)\n",
    "\n",
    "# Print the entire DataFrame\n",
    "print(my_dataframe)"
   ]
  },
  {
   "cell_type": "code",
   "execution_count": null,
   "metadata": {},
   "outputs": [],
   "source": [
    "# index of dataframe are the row labels. Sometimes you can ignore these, and sometimes they matter.\n",
    "my_dataframe.index = ['A', 'B', 'C', 'D', 'E']\n",
    "my_dataframe"
   ]
  },
  {
   "cell_type": "code",
   "execution_count": null,
   "metadata": {},
   "outputs": [],
   "source": [
    "# Create a new column named adjusted.\n",
    "my_dataframe[\"adjusted\"] = my_dataframe[\"activity\"] + 2\n",
    "\n",
    "# Print the entire DataFrame\n",
    "print(my_dataframe)"
   ]
  },
  {
   "cell_type": "code",
   "execution_count": null,
   "metadata": {},
   "outputs": [],
   "source": [
    "print(\"Rows #0, #1, and #2:\")\n",
    "print(my_dataframe.head(3), '\\n')\n",
    "\n",
    "print(\"Row #2:\")\n",
    "print(my_dataframe.iloc[[2]], '\\n')\n",
    "\n",
    "print(\"Rows #1, #2, and #3:\")\n",
    "print(my_dataframe[1:4], '\\n')\n",
    "\n",
    "print('Row B:')\n",
    "print(my_dataframe.loc['B'], '\\n')\n",
    "\n",
    "print(\"Column 'temperature':\")\n",
    "print(my_dataframe['temperature'])"
   ]
  },
  {
   "cell_type": "code",
   "execution_count": null,
   "metadata": {},
   "outputs": [],
   "source": []
  }
 ],
 "metadata": {
  "kernelspec": {
   "display_name": "venv_econ726",
   "language": "python",
   "name": "python3"
  },
  "language_info": {
   "codemirror_mode": {
    "name": "ipython",
    "version": 3
   },
   "file_extension": ".py",
   "mimetype": "text/x-python",
   "name": "python",
   "nbconvert_exporter": "python",
   "pygments_lexer": "ipython3",
   "version": "3.11.13"
  },
  "orig_nbformat": 4
 },
 "nbformat": 4,
 "nbformat_minor": 2
}
