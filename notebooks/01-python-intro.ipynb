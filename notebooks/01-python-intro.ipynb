{
 "cells": [
  {
   "cell_type": "markdown",
   "metadata": {},
   "source": [
    "# Introduction to python and jupyter notebooks\n",
    "\n",
    "Below is an (extremely non-comprehensive) introduction to python and jupyter notebooks. \n",
    "There are many great resources for learning python out there. \n",
    "Some of my favorite include:\n",
    "* Automate the boring stuff with python: https://automatetheboringstuff.com/\n",
    "* The [Python Data Science Handbook](https://www.oreilly.com/library/view/python-data-science/9781491912126/), which has free notebooks availabe on GitHub: https://github.com/jakevdp/PythonDataScienceHandbook/blob/master/README.md"
   ]
  },
  {
   "cell_type": "markdown",
   "metadata": {},
   "source": [
    "## Moving around in notebooks\n",
    "\n",
    "Notebooks are convenient ways of combining text, code, and output. \n",
    "The text is written in a language called Markdown. \n",
    "Code can be written in any number of languages; we'll be using python. \n"
   ]
  },
  {
   "cell_type": "code",
   "execution_count": 1,
   "metadata": {},
   "outputs": [],
   "source": [
    "import pandas as pd\n"
   ]
  }
 ],
 "metadata": {
  "kernelspec": {
   "display_name": "venv_econ726",
   "language": "python",
   "name": "python3"
  },
  "language_info": {
   "codemirror_mode": {
    "name": "ipython",
    "version": 3
   },
   "file_extension": ".py",
   "mimetype": "text/x-python",
   "name": "python",
   "nbconvert_exporter": "python",
   "pygments_lexer": "ipython3",
   "version": "3.11.13"
  },
  "orig_nbformat": 4
 },
 "nbformat": 4,
 "nbformat_minor": 2
}
