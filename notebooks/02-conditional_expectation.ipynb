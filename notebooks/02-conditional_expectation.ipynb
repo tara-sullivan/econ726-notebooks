{
 "cells": [
  {
   "cell_type": "markdown",
   "metadata": {},
   "source": [
    "# Conditional expectation"
   ]
  },
  {
   "cell_type": "code",
   "execution_count": null,
   "metadata": {},
   "outputs": [],
   "source": [
    "import pandas as pd\n",
    "import numpy as np\n",
    "\n",
    "from tabulate import tabulate"
   ]
  },
  {
   "cell_type": "code",
   "execution_count": null,
   "metadata": {},
   "outputs": [],
   "source": [
    "student = ['R', 'S']\n",
    "test = [1, 2]\n",
    "test_difficult = [0, 1]"
   ]
  },
  {
   "cell_type": "code",
   "execution_count": null,
   "metadata": {},
   "outputs": [],
   "source": [
    "score_df = pd.DataFrame({\n",
    "    'student': np.tile(student, reps=2),\n",
    "    'test_number': np.repeat(test, repeats=2),\n",
    "    'test_difficult': np.repeat(test_difficult, repeats=2),\n",
    "    'score': [95, 100, 80, 70]\n",
    "})\n",
    "tabulate(score_df.sort_values(by=['student', 'test_number']), headers='keys', tablefmt='html')"
   ]
  },
  {
   "cell_type": "markdown",
   "metadata": {},
   "source": [
    "$$\n",
    "\\mathbf{E} \\left[ \\text{score} \\vert \\text{student} = \\text{R} \\right]\n",
    "\\quad \\quad\n",
    "\\text{or}\n",
    "\\quad \\quad\n",
    "\\mathbf{E} \\left[ \\text{score} \\vert \\text{student} = \\text{S} \\right]\n",
    "$$"
   ]
  },
  {
   "cell_type": "code",
   "execution_count": null,
   "metadata": {},
   "outputs": [],
   "source": [
    "print_series = score_df.groupby('student')['score'].mean()\n",
    "tabulate(print_series.to_frame(), headers='keys', tablefmt='html')"
   ]
  },
  {
   "cell_type": "markdown",
   "metadata": {},
   "source": [
    "Components of conditional expectation:\n",
    "$$\n",
    "\\begin{aligned}\n",
    "\\mathbb{E} \\left[ \\text{score} \\vert \\text{student} = \\text{R} \\right] \n",
    "&= \\sum_{s_i \\in \\{ 95, 80\\}} s_i \\mathbf{P} (s_i \\vert \\text{student} = \\text{R}) \\\\\n",
    "&= 95 \\cdot \\mathbf{P} (95 \\vert \\text{student} = \\text{R}) + 80 \\cdot \\mathbf{P} (80 \\vert \\text{student} = \\text{R}) \\\\\n",
    "&= 95 \\cdot 0.5 + 80 \\cdot 0.5 \\\\\n",
    "&= 87.5\n",
    "\\end{aligned}\n",
    "$$\n"
   ]
  },
  {
   "cell_type": "markdown",
   "metadata": {},
   "source": [
    "Conditional expectation if the test is hard\n",
    "$$\n",
    "\\mathbf{E} \\left[ \\text{score} \\vert \\text{difficulty} = 0 \\right]\n",
    "\\quad \\quad\n",
    "\\text{or}\n",
    "\\quad \\quad\n",
    "\\mathbf{E} \\left[ \\text{score} \\vert \\text{difficulty} = 1 \\right]\n",
    "$$"
   ]
  },
  {
   "cell_type": "code",
   "execution_count": null,
   "metadata": {},
   "outputs": [],
   "source": [
    "print_series = score_df.groupby('test_difficult')['score'].mean()\n",
    "tabulate(print_series.to_frame(), headers='keys', tablefmt='html')\n"
   ]
  },
  {
   "cell_type": "code",
   "execution_count": null,
   "metadata": {},
   "outputs": [],
   "source": [
    "test_3 = pd.DataFrame({\n",
    "    'student': student,\n",
    "    'test_number': np.repeat([3], repeats=2),\n",
    "    'test_difficult': np.repeat([0], repeats=2),\n",
    "    'score': [95, 70]\n",
    "})\n",
    "\n",
    "new_score_df = pd.concat([score_df, test_3])\n",
    "new_score_df.sort_values(by=['student', 'test_number'])"
   ]
  },
  {
   "cell_type": "markdown",
   "metadata": {},
   "source": [
    "Components of conditional expectation:\n",
    "$$\n",
    "\\begin{aligned}\n",
    "\\mathbf{E} \\left[ \\text{score} \\vert \\text{student} = \\text{R} \\right] \n",
    "&= \\sum_{s \\in \\{ 95, 80\\}} s \\mathbf{P} (s \\vert \\text{student} = \\text{R}) \\\\\n",
    "&= 95 \\cdot \\mathbf{P} (95 \\vert \\text{student} = \\text{R}) + 80 \\cdot \\mathbf{P} (80 \\vert \\text{student} = \\text{R}) \\\\\n",
    "&= 95 \\cdot \\frac{2}{3} + 80 \\cdot {1}{3} \\\\\n",
    "&= 90\n",
    "\\end{aligned}\n",
    "$$\n"
   ]
  },
  {
   "cell_type": "code",
   "execution_count": null,
   "metadata": {},
   "outputs": [],
   "source": [
    "print_series = new_score_df.groupby('student')['score'].mean()\n",
    "tabulate(print_series.to_frame(), headers='keys', tablefmt='html')"
   ]
  },
  {
   "cell_type": "markdown",
   "metadata": {},
   "source": [
    "Law of iterated expectations:\n",
    "$$\n",
    "\\mathbf{E} [ \\mathbf{E} [Y \\vert X]] = \\mathbf{E}[Y]\n",
    "$$"
   ]
  },
  {
   "cell_type": "code",
   "execution_count": null,
   "metadata": {},
   "outputs": [],
   "source": [
    "# law of iterated expectations\n",
    "assert (\n",
    "    new_score_df.groupby('student')['score'].mean().mean() == new_score_df['score'].mean()\n",
    ")"
   ]
  }
 ],
 "metadata": {
  "kernelspec": {
   "display_name": "venv_econ726",
   "language": "python",
   "name": "python3"
  },
  "language_info": {
   "codemirror_mode": {
    "name": "ipython",
    "version": 3
   },
   "file_extension": ".py",
   "mimetype": "text/x-python",
   "name": "python",
   "nbconvert_exporter": "python",
   "pygments_lexer": "ipython3",
   "version": "3.11.13"
  }
 },
 "nbformat": 4,
 "nbformat_minor": 2
}
